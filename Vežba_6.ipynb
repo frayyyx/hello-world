{
  "nbformat": 4,
  "nbformat_minor": 0,
  "metadata": {
    "colab": {
      "name": "Vežba 6.ipynb",
      "provenance": [],
      "collapsed_sections": []
    },
    "kernelspec": {
      "name": "python3",
      "display_name": "Python 3"
    }
  },
  "cells": [
    {
      "cell_type": "code",
      "metadata": {
        "id": "mLtRpNWWpoaV",
        "colab_type": "code",
        "colab": {}
      },
      "source": [
        "# import basic libraries\n",
        "import numpy as np \n",
        "import pandas as pd \n",
        "import warnings\n",
        "import os\n",
        "#warnings.filterwarnings(\"ignore\")\n",
        "\n",
        "# import plot libraries\n",
        "import seaborn as sns\n",
        "sns.set_palette('Set2')\n",
        "import matplotlib.pyplot as plt\n",
        "%matplotlib inline\n",
        "\n",
        "# import ml libraries\n",
        "from sklearn.metrics import confusion_matrix\n",
        "from sklearn.preprocessing import LabelEncoder, MinMaxScaler\n",
        "from sklearn.model_selection import train_test_split, cross_val_score\n",
        "from sklearn import linear_model, datasets\n",
        "from sklearn.ensemble import RandomForestClassifier, RandomForestRegressor\n",
        "from sklearn.metrics import accuracy_score\n",
        "from sklearn.svm import LinearSVC, SVC\n",
        "from sklearn.preprocessing import LabelEncoder\n",
        "label = LabelEncoder()\n",
        "\n"
      ],
      "execution_count": 0,
      "outputs": []
    },
    {
      "cell_type": "code",
      "metadata": {
        "id": "j_6OVjbsqmUf",
        "colab_type": "code",
        "colab": {}
      },
      "source": [
        "# import data\n",
        "\n",
        "from sklearn import linear_model, datasets\n",
        "\n",
        "train = pd.read_csv(\"https://raw.githubusercontent.com/hajdeger/AOP_PUB/master/Prvi%20kolokvijum.csv\")\n",
        "test = pd.read_csv(\"https://raw.githubusercontent.com/hajdeger/AOP_PUB/master/Prvi%20kolokvijum.csv\")"
      ],
      "execution_count": 0,
      "outputs": []
    },
    {
      "cell_type": "code",
      "metadata": {
        "id": "ZjAwIIdmW5KT",
        "colab_type": "code",
        "outputId": "3c94f00d-23eb-4f3d-a4f5-ab54d8ac64b8",
        "colab": {
          "base_uri": "https://localhost:8080/",
          "height": 50
        }
      },
      "source": [
        "# check shape\n",
        "print(\"Train rows and columns : \", train.shape)\n",
        "print(\"Test rows and columns : \", test.shape)"
      ],
      "execution_count": 0,
      "outputs": [
        {
          "output_type": "stream",
          "text": [
            "Train rows and columns :  (406, 9)\n",
            "Test rows and columns :  (406, 9)\n"
          ],
          "name": "stdout"
        }
      ]
    },
    {
      "cell_type": "code",
      "metadata": {
        "id": "CTbhlE5jXIOV",
        "colab_type": "code",
        "outputId": "512e0a5a-5878-421e-de10-5d56bda16581",
        "colab": {
          "base_uri": "https://localhost:8080/",
          "height": 251
        }
      },
      "source": [
        "# check column types\n",
        "ctype = train.dtypes.reset_index()\n",
        "ctype.columns = [\"Count\", \"Column Type\"]\n",
        "ctype.groupby(\"Column Type\").aggregate(\"count\").reset_index()\n",
        "train.info()"
      ],
      "execution_count": 0,
      "outputs": [
        {
          "output_type": "stream",
          "text": [
            "<class 'pandas.core.frame.DataFrame'>\n",
            "RangeIndex: 406 entries, 0 to 405\n",
            "Data columns (total 9 columns):\n",
            "MPG             398 non-null float64\n",
            "Cylinders       405 non-null object\n",
            "Displacement    405 non-null object\n",
            "HP              397 non-null object\n",
            "Weight          405 non-null object\n",
            "Acceleration    406 non-null object\n",
            "Model year      406 non-null object\n",
            "Origin          406 non-null int64\n",
            "Car name        404 non-null object\n",
            "dtypes: float64(1), int64(1), object(7)\n",
            "memory usage: 28.7+ KB\n"
          ],
          "name": "stdout"
        }
      ]
    },
    {
      "cell_type": "code",
      "metadata": {
        "id": "PAvkETVxXm38",
        "colab_type": "code",
        "outputId": "6494a47b-7745-4800-f4df-5124393c0102",
        "colab": {
          "base_uri": "https://localhost:8080/",
          "height": 196
        }
      },
      "source": [
        "# display data header\n",
        "train.head()"
      ],
      "execution_count": 0,
      "outputs": [
        {
          "output_type": "execute_result",
          "data": {
            "text/html": [
              "<div>\n",
              "<style scoped>\n",
              "    .dataframe tbody tr th:only-of-type {\n",
              "        vertical-align: middle;\n",
              "    }\n",
              "\n",
              "    .dataframe tbody tr th {\n",
              "        vertical-align: top;\n",
              "    }\n",
              "\n",
              "    .dataframe thead th {\n",
              "        text-align: right;\n",
              "    }\n",
              "</style>\n",
              "<table border=\"1\" class=\"dataframe\">\n",
              "  <thead>\n",
              "    <tr style=\"text-align: right;\">\n",
              "      <th></th>\n",
              "      <th>MPG</th>\n",
              "      <th>Cylinders</th>\n",
              "      <th>Displacement</th>\n",
              "      <th>HP</th>\n",
              "      <th>Weight</th>\n",
              "      <th>Acceleration</th>\n",
              "      <th>Model year</th>\n",
              "      <th>Origin</th>\n",
              "      <th>Car name</th>\n",
              "    </tr>\n",
              "  </thead>\n",
              "  <tbody>\n",
              "    <tr>\n",
              "      <th>0</th>\n",
              "      <td>18.0</td>\n",
              "      <td>8</td>\n",
              "      <td>307</td>\n",
              "      <td>130</td>\n",
              "      <td>3504</td>\n",
              "      <td>12</td>\n",
              "      <td>70</td>\n",
              "      <td>1</td>\n",
              "      <td>\\tchevrolet chevelle malibu</td>\n",
              "    </tr>\n",
              "    <tr>\n",
              "      <th>1</th>\n",
              "      <td>15.0</td>\n",
              "      <td>8</td>\n",
              "      <td>350</td>\n",
              "      <td>165</td>\n",
              "      <td>3693</td>\n",
              "      <td>11.5</td>\n",
              "      <td>70</td>\n",
              "      <td>1</td>\n",
              "      <td>\\tbuick skylark 320</td>\n",
              "    </tr>\n",
              "    <tr>\n",
              "      <th>2</th>\n",
              "      <td>18.0</td>\n",
              "      <td>8</td>\n",
              "      <td>318</td>\n",
              "      <td>150</td>\n",
              "      <td>3436</td>\n",
              "      <td>11</td>\n",
              "      <td>70</td>\n",
              "      <td>1</td>\n",
              "      <td>\\tplymouth satellite</td>\n",
              "    </tr>\n",
              "    <tr>\n",
              "      <th>3</th>\n",
              "      <td>16.0</td>\n",
              "      <td>8</td>\n",
              "      <td>304</td>\n",
              "      <td>150</td>\n",
              "      <td>3433</td>\n",
              "      <td>12</td>\n",
              "      <td>70</td>\n",
              "      <td>1</td>\n",
              "      <td>\\tamc rebel sst</td>\n",
              "    </tr>\n",
              "    <tr>\n",
              "      <th>4</th>\n",
              "      <td>17.0</td>\n",
              "      <td>8</td>\n",
              "      <td>302</td>\n",
              "      <td>140</td>\n",
              "      <td>3449</td>\n",
              "      <td>10.5</td>\n",
              "      <td>70</td>\n",
              "      <td>1</td>\n",
              "      <td>\\tford torino</td>\n",
              "    </tr>\n",
              "  </tbody>\n",
              "</table>\n",
              "</div>"
            ],
            "text/plain": [
              "    MPG Cylinders Displacement  ... Model year Origin                     Car name\n",
              "0  18.0         8          307  ...         70      1  \\tchevrolet chevelle malibu\n",
              "1  15.0         8          350  ...         70      1          \\tbuick skylark 320\n",
              "2  18.0         8          318  ...         70      1         \\tplymouth satellite\n",
              "3  16.0         8          304  ...         70      1              \\tamc rebel sst\n",
              "4  17.0         8          302  ...         70      1                \\tford torino\n",
              "\n",
              "[5 rows x 9 columns]"
            ]
          },
          "metadata": {
            "tags": []
          },
          "execution_count": 6
        }
      ]
    },
    {
      "cell_type": "code",
      "metadata": {
        "id": "KE1x9NiM2Rrk",
        "colab_type": "code",
        "colab": {}
      },
      "source": [
        "# Let\n",
        "numeric = ['MPG', 'Cylinders', 'Displacement', \"HP\",\t\"Weight\", \"Acceleration\",\t\"Model year\", \"Origin\"]\n",
        "train[numeric] = train[numeric].apply(pd.to_numeric, errors='coerce')"
      ],
      "execution_count": 0,
      "outputs": []
    },
    {
      "cell_type": "code",
      "metadata": {
        "id": "VQwBmLHOaTR_",
        "colab_type": "code",
        "outputId": "9900a3d3-2c2b-4b01-bdc0-a890d1661624",
        "colab": {
          "base_uri": "https://localhost:8080/",
          "height": 184
        }
      },
      "source": [
        "train.dtypes"
      ],
      "execution_count": 0,
      "outputs": [
        {
          "output_type": "execute_result",
          "data": {
            "text/plain": [
              "MPG             float64\n",
              "Cylinders       float64\n",
              "Displacement    float64\n",
              "HP              float64\n",
              "Weight          float64\n",
              "Acceleration    float64\n",
              "Model year      float64\n",
              "Origin            int64\n",
              "Car name         object\n",
              "dtype: object"
            ]
          },
          "metadata": {
            "tags": []
          },
          "execution_count": 30
        }
      ]
    },
    {
      "cell_type": "code",
      "metadata": {
        "id": "eDaQ4SwBXwqe",
        "colab_type": "code",
        "outputId": "ecefd87d-2824-4e25-a509-038b1db47ae6",
        "colab": {
          "base_uri": "https://localhost:8080/",
          "height": 286
        }
      },
      "source": [
        "# numerical data distribution\n",
        "train.describe()"
      ],
      "execution_count": 0,
      "outputs": [
        {
          "output_type": "execute_result",
          "data": {
            "text/html": [
              "<div>\n",
              "<style scoped>\n",
              "    .dataframe tbody tr th:only-of-type {\n",
              "        vertical-align: middle;\n",
              "    }\n",
              "\n",
              "    .dataframe tbody tr th {\n",
              "        vertical-align: top;\n",
              "    }\n",
              "\n",
              "    .dataframe thead th {\n",
              "        text-align: right;\n",
              "    }\n",
              "</style>\n",
              "<table border=\"1\" class=\"dataframe\">\n",
              "  <thead>\n",
              "    <tr style=\"text-align: right;\">\n",
              "      <th></th>\n",
              "      <th>MPG</th>\n",
              "      <th>Cylinders</th>\n",
              "      <th>Displacement</th>\n",
              "      <th>HP</th>\n",
              "      <th>Weight</th>\n",
              "      <th>Acceleration</th>\n",
              "      <th>Model year</th>\n",
              "      <th>Origin</th>\n",
              "    </tr>\n",
              "  </thead>\n",
              "  <tbody>\n",
              "    <tr>\n",
              "      <th>count</th>\n",
              "      <td>398.000000</td>\n",
              "      <td>403.000000</td>\n",
              "      <td>403.000000</td>\n",
              "      <td>393.000000</td>\n",
              "      <td>403.000000</td>\n",
              "      <td>403.000000</td>\n",
              "      <td>404.000000</td>\n",
              "      <td>406.000000</td>\n",
              "    </tr>\n",
              "    <tr>\n",
              "      <th>mean</th>\n",
              "      <td>23.514573</td>\n",
              "      <td>5.461538</td>\n",
              "      <td>193.827543</td>\n",
              "      <td>104.674300</td>\n",
              "      <td>2980.372208</td>\n",
              "      <td>15.499007</td>\n",
              "      <td>75.943069</td>\n",
              "      <td>1.568966</td>\n",
              "    </tr>\n",
              "    <tr>\n",
              "      <th>std</th>\n",
              "      <td>7.815984</td>\n",
              "      <td>1.709029</td>\n",
              "      <td>104.593733</td>\n",
              "      <td>38.628407</td>\n",
              "      <td>845.853986</td>\n",
              "      <td>2.798596</td>\n",
              "      <td>3.743544</td>\n",
              "      <td>0.797479</td>\n",
              "    </tr>\n",
              "    <tr>\n",
              "      <th>min</th>\n",
              "      <td>9.000000</td>\n",
              "      <td>3.000000</td>\n",
              "      <td>68.000000</td>\n",
              "      <td>46.000000</td>\n",
              "      <td>1613.000000</td>\n",
              "      <td>8.000000</td>\n",
              "      <td>70.000000</td>\n",
              "      <td>1.000000</td>\n",
              "    </tr>\n",
              "    <tr>\n",
              "      <th>25%</th>\n",
              "      <td>17.500000</td>\n",
              "      <td>4.000000</td>\n",
              "      <td>104.500000</td>\n",
              "      <td>75.000000</td>\n",
              "      <td>2229.000000</td>\n",
              "      <td>13.650000</td>\n",
              "      <td>73.000000</td>\n",
              "      <td>1.000000</td>\n",
              "    </tr>\n",
              "    <tr>\n",
              "      <th>50%</th>\n",
              "      <td>23.000000</td>\n",
              "      <td>4.000000</td>\n",
              "      <td>146.000000</td>\n",
              "      <td>95.000000</td>\n",
              "      <td>2830.000000</td>\n",
              "      <td>15.500000</td>\n",
              "      <td>76.000000</td>\n",
              "      <td>1.000000</td>\n",
              "    </tr>\n",
              "    <tr>\n",
              "      <th>75%</th>\n",
              "      <td>29.000000</td>\n",
              "      <td>8.000000</td>\n",
              "      <td>284.500000</td>\n",
              "      <td>129.000000</td>\n",
              "      <td>3616.500000</td>\n",
              "      <td>17.150000</td>\n",
              "      <td>79.000000</td>\n",
              "      <td>2.000000</td>\n",
              "    </tr>\n",
              "    <tr>\n",
              "      <th>max</th>\n",
              "      <td>46.600000</td>\n",
              "      <td>8.000000</td>\n",
              "      <td>455.000000</td>\n",
              "      <td>230.000000</td>\n",
              "      <td>5140.000000</td>\n",
              "      <td>24.800000</td>\n",
              "      <td>82.000000</td>\n",
              "      <td>3.000000</td>\n",
              "    </tr>\n",
              "  </tbody>\n",
              "</table>\n",
              "</div>"
            ],
            "text/plain": [
              "              MPG   Cylinders  ...  Model year      Origin\n",
              "count  398.000000  403.000000  ...  404.000000  406.000000\n",
              "mean    23.514573    5.461538  ...   75.943069    1.568966\n",
              "std      7.815984    1.709029  ...    3.743544    0.797479\n",
              "min      9.000000    3.000000  ...   70.000000    1.000000\n",
              "25%     17.500000    4.000000  ...   73.000000    1.000000\n",
              "50%     23.000000    4.000000  ...   76.000000    1.000000\n",
              "75%     29.000000    8.000000  ...   79.000000    2.000000\n",
              "max     46.600000    8.000000  ...   82.000000    3.000000\n",
              "\n",
              "[8 rows x 8 columns]"
            ]
          },
          "metadata": {
            "tags": []
          },
          "execution_count": 31
        }
      ]
    },
    {
      "cell_type": "code",
      "metadata": {
        "id": "C0eNeyCNX5gE",
        "colab_type": "code",
        "outputId": "0efb42cc-8996-42a7-db47-ad3dc027a289",
        "colab": {
          "base_uri": "https://localhost:8080/",
          "height": 166
        }
      },
      "source": [
        "# categorical data distribution\n",
        "train.describe(include=[\"O\"])\n"
      ],
      "execution_count": 0,
      "outputs": [
        {
          "output_type": "execute_result",
          "data": {
            "text/html": [
              "<div>\n",
              "<style scoped>\n",
              "    .dataframe tbody tr th:only-of-type {\n",
              "        vertical-align: middle;\n",
              "    }\n",
              "\n",
              "    .dataframe tbody tr th {\n",
              "        vertical-align: top;\n",
              "    }\n",
              "\n",
              "    .dataframe thead th {\n",
              "        text-align: right;\n",
              "    }\n",
              "</style>\n",
              "<table border=\"1\" class=\"dataframe\">\n",
              "  <thead>\n",
              "    <tr style=\"text-align: right;\">\n",
              "      <th></th>\n",
              "      <th>Car name</th>\n",
              "    </tr>\n",
              "  </thead>\n",
              "  <tbody>\n",
              "    <tr>\n",
              "      <th>count</th>\n",
              "      <td>404</td>\n",
              "    </tr>\n",
              "    <tr>\n",
              "      <th>unique</th>\n",
              "      <td>312</td>\n",
              "    </tr>\n",
              "    <tr>\n",
              "      <th>top</th>\n",
              "      <td>\\tford pinto</td>\n",
              "    </tr>\n",
              "    <tr>\n",
              "      <th>freq</th>\n",
              "      <td>6</td>\n",
              "    </tr>\n",
              "  </tbody>\n",
              "</table>\n",
              "</div>"
            ],
            "text/plain": [
              "            Car name\n",
              "count            404\n",
              "unique           312\n",
              "top     \\tford pinto\n",
              "freq               6"
            ]
          },
          "metadata": {
            "tags": []
          },
          "execution_count": 32
        }
      ]
    },
    {
      "cell_type": "code",
      "metadata": {
        "id": "aO0uawagYT4j",
        "colab_type": "code",
        "outputId": "fde45cb0-2f99-444f-8a21-7e8eec98bf7f",
        "colab": {
          "base_uri": "https://localhost:8080/",
          "height": 286
        }
      },
      "source": [
        "# check missing values\n",
        "missing_df = train.isnull().sum(axis=0).reset_index()\n",
        "missing_df.columns = [\"column_name\", \"missing_count\"]\n",
        "missing_df = missing_df[missing_df[\"missing_count\"]>0]\n",
        "missing_df = missing_df.sort_values(by=\"missing_count\")\n",
        "missing_df"
      ],
      "execution_count": 0,
      "outputs": [
        {
          "output_type": "execute_result",
          "data": {
            "text/html": [
              "<div>\n",
              "<style scoped>\n",
              "    .dataframe tbody tr th:only-of-type {\n",
              "        vertical-align: middle;\n",
              "    }\n",
              "\n",
              "    .dataframe tbody tr th {\n",
              "        vertical-align: top;\n",
              "    }\n",
              "\n",
              "    .dataframe thead th {\n",
              "        text-align: right;\n",
              "    }\n",
              "</style>\n",
              "<table border=\"1\" class=\"dataframe\">\n",
              "  <thead>\n",
              "    <tr style=\"text-align: right;\">\n",
              "      <th></th>\n",
              "      <th>column_name</th>\n",
              "      <th>missing_count</th>\n",
              "    </tr>\n",
              "  </thead>\n",
              "  <tbody>\n",
              "    <tr>\n",
              "      <th>6</th>\n",
              "      <td>Model year</td>\n",
              "      <td>2</td>\n",
              "    </tr>\n",
              "    <tr>\n",
              "      <th>8</th>\n",
              "      <td>Car name</td>\n",
              "      <td>2</td>\n",
              "    </tr>\n",
              "    <tr>\n",
              "      <th>1</th>\n",
              "      <td>Cylinders</td>\n",
              "      <td>3</td>\n",
              "    </tr>\n",
              "    <tr>\n",
              "      <th>2</th>\n",
              "      <td>Displacement</td>\n",
              "      <td>3</td>\n",
              "    </tr>\n",
              "    <tr>\n",
              "      <th>4</th>\n",
              "      <td>Weight</td>\n",
              "      <td>3</td>\n",
              "    </tr>\n",
              "    <tr>\n",
              "      <th>5</th>\n",
              "      <td>Acceleration</td>\n",
              "      <td>3</td>\n",
              "    </tr>\n",
              "    <tr>\n",
              "      <th>0</th>\n",
              "      <td>MPG</td>\n",
              "      <td>8</td>\n",
              "    </tr>\n",
              "    <tr>\n",
              "      <th>3</th>\n",
              "      <td>HP</td>\n",
              "      <td>13</td>\n",
              "    </tr>\n",
              "  </tbody>\n",
              "</table>\n",
              "</div>"
            ],
            "text/plain": [
              "    column_name  missing_count\n",
              "6    Model year              2\n",
              "8      Car name              2\n",
              "1     Cylinders              3\n",
              "2  Displacement              3\n",
              "4        Weight              3\n",
              "5  Acceleration              3\n",
              "0           MPG              8\n",
              "3            HP             13"
            ]
          },
          "metadata": {
            "tags": []
          },
          "execution_count": 33
        }
      ]
    },
    {
      "cell_type": "code",
      "metadata": {
        "id": "Dleg0hx2Y2t5",
        "colab_type": "code",
        "colab": {}
      },
      "source": [
        "# impute/treat missing values\n",
        "train[\"Car name\"] = train[\"Car name\"].fillna(train[\"Car name\"].value_counts().index[0]) \n",
        "train[\"MPG\"].fillna(train[\"MPG\"].mean(), inplace=True) # for numerical (mean or median)\n",
        "train[\"HP\"].fillna(train[\"HP\"].mean(), inplace=True) # for numerical (mean or median)\n",
        "train[\"Acceleration\"].fillna(train[\"Acceleration\"].mean(), inplace=True) # for numerical (mean or median)\n",
        "train[\"Weight\"].fillna(train[\"Weight\"].mean(), inplace=True) # for numerical (mean or median)\n",
        "train[\"Displacement\"].fillna(train[\"Displacement\"].mean(), inplace=True) # for numerical (mean or median)\n",
        "train[\"Cylinders\"].fillna(train[\"Cylinders\"].mean(), inplace=True) # for numerical (mean or median)\n",
        "#train[\"Model year\t\"].fillna(train[\"Model year\t\"].mean(), inplace=True) # for numerical (mean or median)"
      ],
      "execution_count": 0,
      "outputs": []
    },
    {
      "cell_type": "code",
      "metadata": {
        "id": "gn8G8FezdU3r",
        "colab_type": "code",
        "colab": {}
      },
      "source": [
        ""
      ],
      "execution_count": 0,
      "outputs": []
    },
    {
      "cell_type": "code",
      "metadata": {
        "colab_type": "code",
        "outputId": "2407883d-b66e-4aac-c14d-6777ff3566f7",
        "id": "U22dfsT2dceN",
        "colab": {
          "base_uri": "https://localhost:8080/",
          "height": 77
        }
      },
      "source": [
        "# check missing values\n",
        "missing_df = train.isnull().sum(axis=0).reset_index()\n",
        "missing_df.columns = [\"column_name\", \"missing_count\"]\n",
        "missing_df = missing_df[missing_df[\"missing_count\"]>0]\n",
        "missing_df = missing_df.sort_values(by=\"missing_count\")\n",
        "missing_df"
      ],
      "execution_count": 0,
      "outputs": [
        {
          "output_type": "execute_result",
          "data": {
            "text/html": [
              "<div>\n",
              "<style scoped>\n",
              "    .dataframe tbody tr th:only-of-type {\n",
              "        vertical-align: middle;\n",
              "    }\n",
              "\n",
              "    .dataframe tbody tr th {\n",
              "        vertical-align: top;\n",
              "    }\n",
              "\n",
              "    .dataframe thead th {\n",
              "        text-align: right;\n",
              "    }\n",
              "</style>\n",
              "<table border=\"1\" class=\"dataframe\">\n",
              "  <thead>\n",
              "    <tr style=\"text-align: right;\">\n",
              "      <th></th>\n",
              "      <th>column_name</th>\n",
              "      <th>missing_count</th>\n",
              "    </tr>\n",
              "  </thead>\n",
              "  <tbody>\n",
              "    <tr>\n",
              "      <th>6</th>\n",
              "      <td>Model year</td>\n",
              "      <td>2</td>\n",
              "    </tr>\n",
              "  </tbody>\n",
              "</table>\n",
              "</div>"
            ],
            "text/plain": [
              "  column_name  missing_count\n",
              "6  Model year              2"
            ]
          },
          "metadata": {
            "tags": []
          },
          "execution_count": 38
        }
      ]
    },
    {
      "cell_type": "code",
      "metadata": {
        "id": "QdiG0k0Ed2ht",
        "colab_type": "code",
        "outputId": "09a5c941-ad27-4ff6-a893-b89a74f96149",
        "colab": {
          "base_uri": "https://localhost:8080/",
          "height": 517
        }
      },
      "source": [
        "# histogram of numerical column\n",
        "plt.figure(figsize=(12,8))\n",
        "sns.distplot(train[\"Weight\"].values, bins=10, kde=False)\n",
        "plt.xlabel(\"Weight\", fontsize=12)\n",
        "plt.title(\"Weight histogram\", fontsize=14)\n",
        "plt.show()\n"
      ],
      "execution_count": 0,
      "outputs": [
        {
          "output_type": "display_data",
          "data": {
            "image/png": "[encoded data removed]",
            "text/plain": [
              "<Figure size 864x576 with 1 Axes>"
            ]
          },
          "metadata": {
            "tags": []
          }
        }
      ]
    },
    {
      "cell_type": "code",
      "metadata": {
        "id": "mI_bLuYgebId",
        "colab_type": "code",
        "outputId": "f557f19b-39d2-4220-ed16-a17b5e940bb8",
        "colab": {
          "base_uri": "https://localhost:8080/",
          "height": 296
        }
      },
      "source": [
        "sns.regplot(x=\"MPG\", y=\"Weight\", data=train) # numerical vs numerical"
      ],
      "execution_count": 0,
      "outputs": [
        {
          "output_type": "execute_result",
          "data": {
            "text/plain": [
              "<matplotlib.axes._subplots.AxesSubplot at 0x7f8686562c88>"
            ]
          },
          "metadata": {
            "tags": []
          },
          "execution_count": 41
        },
        {
          "output_type": "display_data",
          "data": {
            "image/png": "[encoded data removed]",
            "text/plain": [
              "<Figure size 432x288 with 1 Axes>"
            ]
          },
          "metadata": {
            "tags": []
          }
        }
      ]
    },
    {
      "cell_type": "code",
      "metadata": {
        "id": "sP4DSo-2e1Jp",
        "colab_type": "code",
        "outputId": "390c8d31-3abe-496f-92a3-5a322bf2c81c",
        "colab": {
          "base_uri": "https://localhost:8080/",
          "height": 1000
        }
      },
      "source": [
        "# multivariate analysis\n",
        "temp = train[numeric]\n",
        "corrmat = temp.corr(method=\"spearman\")\n",
        "f, ax = plt.subplots(figsize=(20, 20))\n",
        "sns.heatmap(corrmat, vmax=1., square=True, cmap=\"YlGnBu\", annot=True)\n",
        "plt.title(\"numerical variables correlation map\", fontsize=15)\n",
        "plt.show()\n"
      ],
      "execution_count": 0,
      "outputs": [
        {
          "output_type": "display_data",
          "data": {
            "image/png": "[encoded data removed]",
            "text/plain": [
              "<Figure size 1440x1440 with 2 Axes>"
            ]
          },
          "metadata": {
            "tags": []
          }
        }
      ]
    }
  ]
}